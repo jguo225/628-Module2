{
 "cells": [
  {
   "cell_type": "markdown",
   "metadata": {
    "hideCode": true,
    "hidePrompt": true
   },
   "source": [
    "# Ratings of Yelp Reviews Prediction\n",
    "#### Yichen Shi, Yanran Wang, Kai Wang"
   ]
  },
  {
   "cell_type": "markdown",
   "metadata": {
    "hideCode": true,
    "hidePrompt": true
   },
   "source": [
    "## Part 1: Background & Data Overview\n",
    "* <font size='+1.5'>Thesis Statement</font>\n",
    "   * **Background:**  Yelp is an Internet company founded in 2004 to “help people find great local businesses” by providing a platform for users to write reviews of businesses. \n",
    "\n",
    "   * **Goal:**  1. find out what makes a review positive or negative based on the review and a small set of attributes; 2. propose a prediction model to predict the ratings of reviews based on the text and said attributes.\n",
    "\n",
    "* <font size='+1.5'>Dataset:</font>  In the dataset collected in recent years, stars, name, text, date, city, categories, longitude and latitude were recorded for 1,546,379 reviews:"
   ]
  },
  {
   "cell_type": "code",
   "execution_count": null,
   "metadata": {
    "hideCode": true,
    "hidePrompt": true
   },
   "outputs": [],
   "source": [
    "from IPython.display import Image\n",
    "Image(\"Image/head.png\")"
   ]
  },
  {
   "cell_type": "markdown",
   "metadata": {
    "hideCode": true,
    "hidePrompt": true
   },
   "source": [
    "## Part 2: text Processing & Prediction Model\n",
    "### 2.1 Text Processing\n",
    "* Text Processing\n",
    "    * Remove punctuations\n",
    "    * Lowercasing every word\n",
    "    * Extract the word stem\n",
    "    * Remove stopwords\n",
    "* Generate corpus from the whole train data and vectorize all texts that comprise a large sparse matrix.\n",
    "* Dimension Reduction\n",
    "    * Chi-square test that selects K most informative columns\n",
    "* Convert following features into numpy arrays and merge into the original sparse matrix\n",
    "    * The number of specific punctuations and expressions: ‘?’, ’!’, ’:)’, ’:D’, etc.\n",
    "    * The number of all caps: ‘GOOD’,’NOT’,etc.\n",
    "    * Text length\n",
    "### 2.2 Model Fitting\n",
    "\n",
    "Then we applied different models to select features and do the prediction. By comparing precision of different models on the test set, we get the table below.\n",
    "\n",
    "We also tried to combine other variables, like longitude, latitude and categories altogether, but there seems no prove to the accuracy of prediction"
   ]
  },
  {
   "cell_type": "markdown",
   "metadata": {
    "hideCode": true,
    "hidePrompt": true
   },
   "source": [
    "INFO | KNN |Lasso | Ridge| SVM|Random Forest|Neural Network|GBM|Logistic|Naive Bayes|\n",
    "------------ | -------------| ------------- |-------------  | ------| ------| -------------| -------------| -------------| -------------\n",
    "Just Text|1      | 3    | 8    | 5    | 5    | 14(3) | 13(3) | 14| 1\n",
    "Text and Others   | 18.993 | 16.310| 15.787| 15.954| 16.310| 17.321 | 17.100 | $\\approx 16.1$| 18.993"
   ]
  },
  {
   "cell_type": "markdown",
   "metadata": {
    "hideCode": true,
    "hidePrompt": true
   },
   "source": [
    "As can be seen in the table Logistic regression performs the best."
   ]
  },
  {
   "cell_type": "markdown",
   "metadata": {
    "hideCode": true,
    "hidePrompt": true
   },
   "source": [
    "## Part 3: Features Processing & Interpretable Model\n",
    "### 3.1 Feature Processing\n",
    "### 3.2 Model Fitting"
   ]
  },
  {
   "attachments": {},
   "cell_type": "markdown",
   "metadata": {
    "hideCode": true,
    "hidePrompt": true
   },
   "source": [
    "Aparently, texts play an important role in determining whether a review is positive or negative. To discuss the answer of our Goal 1, we plotted word clouds consists of words in texts can mostly indicate a positive or negative review.\n",
    "\n",
    "**Positive Wordcloud:**"
   ]
  },
  {
   "cell_type": "code",
   "execution_count": null,
   "metadata": {},
   "outputs": [],
   "source": [
    "from IPython.display import Image\n",
    "Image(\"Image/5star.png\")"
   ]
  },
  {
   "cell_type": "markdown",
   "metadata": {},
   "source": [
    "**Negative Wordcloud:**"
   ]
  },
  {
   "cell_type": "code",
   "execution_count": null,
   "metadata": {},
   "outputs": [],
   "source": [
    "from IPython.display import Image\n",
    "Image(\"Image/1star.png\")"
   ]
  },
  {
   "cell_type": "markdown",
   "metadata": {
    "hideCode": true,
    "hidePrompt": true
   },
   "source": [
    "## Part 4: Conclusion\n",
    "1. Strengths\n",
    "   * Prediction Model: Our prediction model has been chosen for its greatest strength, which is high accuracy and small RMSE, 0.69141 given by Kaggle.\n",
    "   * -\n",
    "2. Weaknesses\n",
    "   * Prediction Model: We've tried much more advanved methods such as Neural Network, however failed to get the final results due to time and device limit. Also, there're more useful ways we could've tried to improve our text processing to get more effective clean data.\n",
    "   * -\n",
    "3. Contribution\n",
    "\n",
    "| Name         | Contibution                                                                     |\n",
    "|--------------|---------------------------------------------------------------------------------|\n",
    "| Yichen Shi   | Analyzed data and fitted two models.                                            |\n",
    "| Yanran Wang  | Analyzed data, made GitHub repo, notebook, and slides for presentation.         |\n",
    "| Kai Wang     | Analyzed and explored features. Processed data.                                 |"
   ]
  }
 ],
 "metadata": {
  "hide_code_all_hidden": true,
  "kernelspec": {
   "display_name": "Python 3",
   "language": "python",
   "name": "python3"
  },
  "language_info": {
   "codemirror_mode": {
    "name": "ipython",
    "version": 3
   },
   "file_extension": ".py",
   "mimetype": "text/x-python",
   "name": "python",
   "nbconvert_exporter": "python",
   "pygments_lexer": "ipython3",
   "version": "3.6.4"
  }
 },
 "nbformat": 4,
 "nbformat_minor": 2
}
